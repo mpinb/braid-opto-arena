{
 "cells": [
  {
   "cell_type": "code",
   "execution_count": 1,
   "metadata": {},
   "outputs": [],
   "source": [
    "import requests\n",
    "import json\n",
    "import numpy as np\n",
    "import matplotlib.pyplot as plt"
   ]
  },
  {
   "cell_type": "code",
   "execution_count": 17,
   "metadata": {},
   "outputs": [],
   "source": [
    "import struct\n",
    "import serial\n",
    "\n",
    "\n",
    "class Lens:\n",
    "    def __init__(self, port, debug=False):\n",
    "        self.debug = debug\n",
    "\n",
    "        self.connection = serial.Serial(port, 115200, timeout=1)\n",
    "        self.connection.flush()\n",
    "\n",
    "        self.connection.write(b\"Start\")\n",
    "        if not self.connection.readline() == b\"Ready\\r\\n\":\n",
    "            raise Exception(\"Lens Driver did not reply to handshake\")\n",
    "\n",
    "        self.firmware_type = self.get_firmware_type()\n",
    "        self.firmware_version = self.get_firmware_version()\n",
    "\n",
    "        self.device_id = self.get_device_id()\n",
    "        self.max_output_current = self.get_max_output_current()\n",
    "        self.set_temperature_limits(20, 40)\n",
    "\n",
    "        self.mode = None\n",
    "        self.refresh_active_mode()\n",
    "\n",
    "        self.lens_serial = self.get_lens_serial_number()\n",
    "\n",
    "        if self.debug:\n",
    "            print(\n",
    "                \"=== Lens initialization complete ==================================================================\"\n",
    "            )\n",
    "\n",
    "    def send_command(self, command, reply_fmt=None):\n",
    "        if type(command) is not bytes:\n",
    "            command = bytes(command, encoding=\"ascii\")\n",
    "        command = command + struct.pack(\"<H\", crc_16(command))\n",
    "        if self.debug:\n",
    "            commandhex = \" \".join(\"{:02x}\".format(c) for c in command)\n",
    "            print(\"{:<50} ¦ {}\".format(commandhex, command))\n",
    "        self.connection.write(command)\n",
    "\n",
    "        if reply_fmt is not None:\n",
    "            response_size = struct.calcsize(reply_fmt)\n",
    "            response = self.connection.read(response_size + 4)\n",
    "            if self.debug:\n",
    "                responsehex = \" \".join(\"{:02x}\".format(c) for c in response)\n",
    "                print(\"{:>50} ¦ {}\".format(responsehex, response))\n",
    "\n",
    "            if response is None:\n",
    "                raise Exception(\"Expected response not received\")\n",
    "\n",
    "            data, crc, newline = struct.unpack(\n",
    "                \"<{}sH2s\".format(response_size), response\n",
    "            )\n",
    "            if crc != crc_16(data) or newline != b\"\\r\\n\":\n",
    "                raise Exception(\"Response CRC not correct\")\n",
    "\n",
    "            return struct.unpack(reply_fmt, data)\n",
    "\n",
    "    def get_max_output_current(self):\n",
    "        return self.send_command(\"CrMA\\x00\\x00\", \">xxxh\")[0] / 100\n",
    "\n",
    "    def get_firmware_type(self):\n",
    "        return self.send_command(\"H\", \">xs\")[0].decode(\"ascii\")\n",
    "\n",
    "    def get_firmware_branch(self):\n",
    "        return self.send_command(\"F\", \">xB\")[0]\n",
    "\n",
    "    def get_device_id(self):\n",
    "        return self.send_command(\"IR\\x00\\x00\\x00\\x00\\x00\\x00\\x00\\x00\", \">xx8s\")[\n",
    "            0\n",
    "        ].decode(\"ascii\")\n",
    "\n",
    "    def get_firmware_version(self):\n",
    "        return self.send_command(b\"V\\x00\", \">xBBHH\")\n",
    "\n",
    "    def get_lens_serial_number(self):\n",
    "        return self.send_command(\"X\", \">x8s\")[0].decode(\"ascii\")\n",
    "\n",
    "    def eeprom_write_byte(self, address, byte):\n",
    "        return self.send_command(b\"Zw\" + struct.pack(\"BB\", address, byte), \">xB\")[0]\n",
    "\n",
    "    def eeprom_dump(self):\n",
    "        return [\n",
    "            self.send_command(b\"Zr\" + struct.pack(\"B\", i), \">xB\")[0] for i in range(256)\n",
    "        ]\n",
    "\n",
    "    def eeprom_print(self):\n",
    "        eeprom = self.eeprom_dump()\n",
    "\n",
    "        print(\"===============================================\")\n",
    "        print(\"EEPROM of lens number {}\".format(self.lens_serial))\n",
    "        print(\"===============================================\")\n",
    "        for i in range(16):\n",
    "            print(\n",
    "                \" \".join(\n",
    "                    [\"{:02x}\".format(byte) for byte in eeprom[i * 16 : i * 16 + 16]]\n",
    "                )\n",
    "            )\n",
    "        print(\"===============================================\")\n",
    "\n",
    "    def get_temperature(self):\n",
    "        return self.send_command(b\"TCA\", \">xxxh\")[0] * 0.0625\n",
    "\n",
    "    def set_temperature_limits(self, lower, upper):\n",
    "        error, max_fp, min_fp = self.send_command(\n",
    "            b\"PwTA\" + struct.pack(\">hh\", upper * 16, lower * 16), \">xxBhh\"\n",
    "        )\n",
    "        if self.firmware_type == \"A\":\n",
    "            return error, min_fp / 200 - 5, max_fp / 200 - 5\n",
    "        else:\n",
    "            return error, min_fp / 200, max_fp / 200\n",
    "\n",
    "    def get_current(self):\n",
    "        return (\n",
    "            self.send_command(b\"Ar\\x00\\x00\", \">xh\")[0] * self.max_output_current / 4095\n",
    "        )\n",
    "\n",
    "    def set_current(self, current):\n",
    "        if not self.mode == 1:\n",
    "            raise Exception(\"Cannot set current when not in current mode\")\n",
    "        raw_current = int(current * 4095 / self.max_output_current)\n",
    "        self.send_command(b\"Aw\" + struct.pack(\">h\", raw_current))\n",
    "\n",
    "    def get_diopter(self):\n",
    "        (raw_diopter,) = self.send_command(b\"PrDA\\x00\\x00\\x00\\x00\", \">xxh\")\n",
    "        return raw_diopter / 200 - 5 if self.firmware_type == \"A\" else raw_diopter / 200\n",
    "\n",
    "    def set_diopter(self, diopter):\n",
    "        if not self.mode == 5:\n",
    "            raise Exception(\"Cannot set focal power when not in focal power mode\")\n",
    "        raw_diopter = int(\n",
    "            (diopter + 5) * 200 if self.firmware_type == \"A\" else diopter * 200\n",
    "        )\n",
    "        self.send_command(b\"PwDA\" + struct.pack(\">h\", raw_diopter) + b\"\\x00\\x00\")\n",
    "\n",
    "    def to_focal_power_mode(self):\n",
    "        error, max_fp_raw, min_fp_raw = self.send_command(\"MwCA\", \">xxxBhh\")\n",
    "        min_fp, max_fp = min_fp_raw / 200, max_fp_raw / 200\n",
    "        if self.firmware_type == \"A\":\n",
    "            min_fp, max_fp = min_fp - 5, max_fp - 5\n",
    "\n",
    "        self.refresh_active_mode()\n",
    "        return min_fp, max_fp\n",
    "\n",
    "    def to_current_mode(self):\n",
    "        self.send_command(\"MwDA\", \">xxx\")\n",
    "        self.refresh_active_mode()\n",
    "\n",
    "    def refresh_active_mode(self):\n",
    "        self.mode = self.send_command(\"MMA\", \">xxxB\")[0]\n",
    "        return self.mode\n",
    "\n",
    "\n",
    "def crc_16(s):\n",
    "    crc = 0x0000\n",
    "    for c in s:\n",
    "        crc = crc ^ c\n",
    "        for i in range(0, 8):\n",
    "            crc = (crc >> 1) ^ 0xA001 if (crc & 1) > 0 else crc >> 1\n",
    "\n",
    "    return crc"
   ]
  },
  {
   "cell_type": "code",
   "execution_count": 2,
   "metadata": {},
   "outputs": [],
   "source": [
    "DATA_PREFIX = \"data: \"\n",
    "\n",
    "\n",
    "def parse_chunk(chunk):\n",
    "    lines = chunk.strip().split(\"\\n\")\n",
    "    assert len(lines) == 2\n",
    "    assert lines[0] == \"event: braid\"\n",
    "    assert lines[1].startswith(DATA_PREFIX)\n",
    "    buf = lines[1][len(DATA_PREFIX) :]\n",
    "    data = json.loads(buf)\n",
    "    return data"
   ]
  },
  {
   "cell_type": "code",
   "execution_count": null,
   "metadata": {},
   "outputs": [],
   "source": []
  },
  {
   "cell_type": "code",
   "execution_count": 91,
   "metadata": {},
   "outputs": [
    {
     "name": "stdout",
     "output_type": "stream",
     "text": [
      "0.3316012564660397\n"
     ]
    },
    {
     "data": {
      "image/png": "[encoded data removed]",
      "text/plain": [
       "<Figure size 640x480 with 1 Axes>"
      ]
     },
     "metadata": {},
     "output_type": "display_data"
    }
   ],
   "source": [
    "braid_url = \"http://127.0.0.1:8397/\"\n",
    "events_url = f\"{braid_url}/events\"\n",
    "session = requests.Session()\n",
    "r = session.get(braid_url)\n",
    "assert r.status_code == requests.codes.ok\n",
    "\n",
    "r = session.get(events_url, stream=True, headers={\"Accept\": \"text/event-stream\"})\n",
    "\n",
    "i = 0\n",
    "zs = []\n",
    "\n",
    "for chunk in r.iter_content(chunk_size=None, decode_unicode=True):\n",
    "    if i > 300:\n",
    "        break\n",
    "\n",
    "    data = parse_chunk(chunk)\n",
    "    try:\n",
    "        z = data[\"msg\"][\"Update\"][\"z\"]\n",
    "        zs.append(z)\n",
    "        i += 1\n",
    "    except:\n",
    "        pass\n",
    "\n",
    "print(np.nanmean(zs))\n",
    "\n",
    "fig = plt.figure()\n",
    "plt.scatter(range(len(zs)), zs)\n",
    "plt.show()"
   ]
  },
  {
   "cell_type": "code",
   "execution_count": 20,
   "metadata": {},
   "outputs": [
    {
     "name": "stdout",
     "output_type": "stream",
     "text": [
      "48 00 36                                           ¦ b'H\\x006'\n",
      "                                 48 46 b7 f2 0d 0a ¦ b'HF\\xb7\\xf2\\r\\n'\n",
      "56 00 3f a0                                        ¦ b'V\\x00?\\xa0'\n",
      "                  56 01 09 08 11 e4 59 32 8a 0d 0a ¦ b'V\\x01\\t\\x08\\x11\\xe4Y2\\x8a\\r\\n'\n",
      "49 52 00 00 00 00 00 00 00 00 37 98                ¦ b'IR\\x00\\x00\\x00\\x00\\x00\\x00\\x00\\x007\\x98'\n",
      "         49 52 41 4b 41 42 35 33 37 39 57 9f 0d 0a ¦ b'IRAKAB5379W\\x9f\\r\\n'\n",
      "43 72 4d 41 00 00 71 80                            ¦ b'CrMA\\x00\\x00q\\x80'\n",
      "                        43 4d 41 72 64 27 fc 0d 0a ¦ b\"CMArd'\\xfc\\r\\n\"\n",
      "50 77 54 41 02 80 01 40 33 d0                      ¦ b'PwTA\\x02\\x80\\x01@3\\xd0'\n",
      "                  50 54 00 03 64 fc 7c 5c ab 0d 0a ¦ b'PT\\x00\\x03d\\xfc|\\\\\\xab\\r\\n'\n",
      "4d 4d 41 65 77                                     ¦ b'MMAew'\n",
      "                           4d 4d 41 01 76 eb 0d 0a ¦ b'MMA\\x01v\\xeb\\r\\n'\n",
      "58 01 fa                                           ¦ b'X\\x01\\xfa'\n",
      "            58 41 4e 41 44 31 39 37 35 07 f3 0d 0a ¦ b'XANAD1975\\x07\\xf3\\r\\n'\n",
      "=== Lens initialization complete ==================================================================\n",
      "4d 77 43 41 56 76                                  ¦ b'MwCAVv'\n",
      "               4d 43 41 08 03 64 fc 7c 58 c7 0d 0a ¦ b'MCA\\x08\\x03d\\xfc|X\\xc7\\r\\n'\n",
      "4d 4d 41 65 77                                     ¦ b'MMAew'\n",
      "                           4d 4d 41 05 77 28 0d 0a ¦ b'MMA\\x05w(\\r\\n'\n"
     ]
    },
    {
     "data": {
      "text/plain": [
       "(-4.5, 4.34)"
      ]
     },
     "execution_count": 20,
     "metadata": {},
     "output_type": "execute_result"
    }
   ],
   "source": [
    "lens = Lens(\"/dev/optotune_ld\", debug=True)\n",
    "lens.to_focal_power_mode()"
   ]
  },
  {
   "cell_type": "code",
   "execution_count": 98,
   "metadata": {},
   "outputs": [
    {
     "name": "stdout",
     "output_type": "stream",
     "text": [
      "50 77 44 41 01 40 00 00 31 58                      ¦ b'PwDA\\x01@\\x00\\x001X'\n"
     ]
    }
   ],
   "source": [
    "lens.set_diopter(1.6)"
   ]
  },
  {
   "cell_type": "code",
   "execution_count": null,
   "metadata": {},
   "outputs": [],
   "source": []
  }
 ],
 "metadata": {
  "kernelspec": {
   "display_name": ".venv",
   "language": "python",
   "name": "python3"
  },
  "language_info": {
   "codemirror_mode": {
    "name": "ipython",
    "version": 3
   },
   "file_extension": ".py",
   "mimetype": "text/x-python",
   "name": "python",
   "nbconvert_exporter": "python",
   "pygments_lexer": "ipython3",
   "version": "3.10.0"
  }
 },
 "nbformat": 4,
 "nbformat_minor": 2
}
